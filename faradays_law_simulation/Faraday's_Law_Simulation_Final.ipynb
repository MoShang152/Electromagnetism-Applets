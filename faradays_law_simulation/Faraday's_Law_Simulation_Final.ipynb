{
 "cells": [
  {
   "cell_type": "markdown",
   "id": "f035828f",
   "metadata": {},
   "source": [
    "### Simulation: Faraday's Law of Electromagnetic Induction\n",
    "\n",
    "This simulation visualizes **Faraday’s Law**, which states that a changing magnetic flux induces an electromotive force (EMF) in a circuit. The magnitude of the induced EMF is proportional to the rate of change of the magnetic flux.\n",
    "\n",
    "#### Key Parameters and Their Effects:\n",
    "- **Magnetic Field Strength (B-field)**: Controls the intensity of the magnetic field, affecting the induced voltage in the coil.\n",
    "- **Loop Motion Speed**: Determines how fast the conductor moves through the magnetic field, impacting the rate of flux change.\n",
    "- **Coil Turns (N)**: Affects the total induced voltage, as the EMF is proportional to the number of turns in the loop.\n",
    "- **Resistance (R)**: Influences the current generated in the circuit when an EMF is induced.\n",
    "- **Time Variation**: Allows the observation of how the EMF changes dynamically over time.\n",
    "\n",
    "#### Suggested Explorations:\n",
    "- Try increasing the **magnetic field strength** and observe how the induced voltage changes.\n",
    "- Adjust the **loop speed** to see how a faster-moving conductor induces a stronger EMF.\n",
    "- Increase the **number of coil turns** and note its effect on the total induced voltage.\n",
    "- Modify the **resistance** and observe its impact on the current in the circuit.\n",
    "\n",
    "**By adjusting these parameters, you can explore the fundamental principles of electromagnetic induction and gain insights into how real-world generators and transformers operate.**"
   ]
  },
  {
   "cell_type": "code",
   "execution_count": 1,
   "id": "02fb226b",
   "metadata": {},
   "outputs": [
    {
     "data": {
      "application/vnd.jupyter.widget-view+json": {
       "model_id": "f856ab0d9f9e4c2e872d055244ac822e",
       "version_major": 2,
       "version_minor": 0
      },
      "text/plain": [
       "interactive(children=(FloatSlider(value=1.0, description='Magnet Speed', max=5.0, min=0.1), FloatSlider(value=…"
      ]
     },
     "metadata": {},
     "output_type": "display_data"
    }
   ],
   "source": [
    "import numpy as np\n",
    "import matplotlib.pyplot as plt\n",
    "from ipywidgets import interact, FloatSlider\n",
    "\n",
    "def faraday_simulation(v=1.0, A=1.0, B0=1.0, L=1.0, N=100, duration=2.0):\n",
    "    \"\"\"\n",
    "    Simulate Faraday's law by modeling a magnet with a Gaussian magnetic field\n",
    "    moving through a coil. The induced EMF is calculated as the negative time\n",
    "    derivative of the magnetic flux through the coil multiplied by the number of turns.\n",
    "    \n",
    "    Parameters:\n",
    "    - v: Magnet speed (m/s)\n",
    "    - A: Coil cross-sectional area (m^2)\n",
    "    - B0: Peak magnetic field strength (Tesla)\n",
    "    - L: Characteristic length of the coil (m), affecting the width of the B-field profile\n",
    "    - N: Number of turns in the coil\n",
    "    - duration: Total simulation time (s)\n",
    "    \"\"\"\n",
    "    dt = 0.01  # time step in seconds\n",
    "    t = np.arange(0, duration, dt)\n",
    "    \n",
    "    # Compute the position of the magnet over time (assuming it starts at x=0)\n",
    "    x = v * t\n",
    "    \n",
    "    # Assume the coil is centered at L/2; use a Gaussian profile for the magnet's field.\n",
    "    # sigma determines the spread of the magnetic field.\n",
    "    x0 = L / 2\n",
    "    sigma = L / 10  # adjust spread relative to the coil's length\n",
    "    B_field = B0 * np.exp(-((x - x0)**2) / (2 * sigma**2))\n",
    "    \n",
    "    # Magnetic flux through the coil (assuming uniform field over area A)\n",
    "    flux = B_field * A\n",
    "    \n",
    "    # Compute the induced EMF using numerical differentiation\n",
    "    emf = -N * np.gradient(flux, dt)\n",
    "    \n",
    "    # Plotting the results\n",
    "    fig, ax1 = plt.subplots(figsize=(10, 5))\n",
    "    \n",
    "    # Plot magnetic flux\n",
    "    ax1.plot(t, flux, label='Magnetic Flux (Wb)', color='blue')\n",
    "    ax1.set_xlabel('Time (s)')\n",
    "    ax1.set_ylabel('Flux (Wb)', color='blue')\n",
    "    ax1.tick_params(axis='y', labelcolor='blue')\n",
    "    \n",
    "    # Create a second y-axis for the induced EMF\n",
    "    ax2 = ax1.twinx()\n",
    "    ax2.plot(t, emf, label='Induced EMF (V)', color='red')\n",
    "    ax2.set_ylabel('EMF (V)', color='red')\n",
    "    ax2.tick_params(axis='y', labelcolor='red')\n",
    "    \n",
    "    plt.title(\"Faraday's Law Simulation\")\n",
    "    fig.tight_layout()\n",
    "    plt.show()\n",
    "\n",
    "# Create interactive sliders for the simulation parameters\n",
    "interact(faraday_simulation, \n",
    "         v=FloatSlider(min=0.1, max=5.0, step=0.1, value=1.0, description='Magnet Speed'),\n",
    "         A=FloatSlider(min=0.1, max=5.0, step=0.1, value=1.0, description='Coil Area'),\n",
    "         B0=FloatSlider(min=0.1, max=10.0, step=0.1, value=1.0, description='Magnetic Field Strength'),\n",
    "         L=FloatSlider(min=0.1, max=10.0, step=0.1, value=1.0, description='Coil Length'),\n",
    "         N=FloatSlider(min=1, max=500, step=1, value=100, description='Number of Turns'),\n",
    "         duration=FloatSlider(min=1.0, max=10.0, step=0.5, value=2.0, description='Duration'));\n"
   ]
  },
  {
   "cell_type": "markdown",
   "id": "0f0721d6",
   "metadata": {},
   "source": [
    "At time t=0, you can imagine a magnet starting its journey toward a coil, and as it does, it creates a magnetic field that changes over time. On the graph, time is on the x-axis, and the strength of the magnetic field (flux) is on the y-axis.\n",
    "\n",
    "As the magnet gets nearer, the magnetic flux ramps up, reaching its highest point right when the magnet is centered in the coil. Because the magnetic flux is changing so fast at this point, a strong electromotive force (emf) is induced, which you can see peaking on the graph too.\n",
    "\n",
    "After the magnet passes through the coil, the flux starts to drop back to zero, and so does the induced emf. Other parameters can also change during this process. For example, if you speed up the magnet, the flux changes more rapidly, and you'll see an even bigger spike in the induced emf. Similarly, if you tweak the coil's resistance, it can affect how much current flows—even if the emf is high, a higher resistance will reduce the current."
   ]
  },
  {
   "cell_type": "code",
   "execution_count": null,
   "id": "f58db752",
   "metadata": {},
   "outputs": [],
   "source": []
  }
 ],
 "metadata": {
  "kernelspec": {
   "display_name": "Python 3 (ipykernel)",
   "language": "python",
   "name": "python3"
  },
  "language_info": {
   "codemirror_mode": {
    "name": "ipython",
    "version": 3
   },
   "file_extension": ".py",
   "mimetype": "text/x-python",
   "name": "python",
   "nbconvert_exporter": "python",
   "pygments_lexer": "ipython3",
   "version": "3.9.7"
  }
 },
 "nbformat": 4,
 "nbformat_minor": 5
}
