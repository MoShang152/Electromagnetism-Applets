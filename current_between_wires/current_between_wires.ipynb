import numpy as np
import matplotlib.pyplot as plt

# For the interactive controls in a Jupyter Notebook:
from ipywidgets import interactive, FloatSlider
import ipywidgets as widgets

mu0 = 4e-7 * np.pi  # Permeability of free space

def magnetic_field_two_wires(I1, I2, d=2.0, grid_size=21, extent=2.0):
    """
    Calculate the net B-field on a 2D grid from two long parallel wires.
    
    Parameters:
    -----------
    I1, I2 : float
        Currents through wire #1 and wire #2 (A). 
        Positive means +z direction, negative means -z direction.
    d : float
        Separation of wires along x-axis (wire #1 at x=-d/2, wire #2 at x=+d/2).
    grid_size : int
        Number of points in each dimension of the grid.
    extent : float
        Half-size of the region in x and y to plot (from -extent to +extent).
        
    Returns:
    --------
    X, Y : meshgrids for the x and y coordinates
    Bx, By : 2D arrays with x- and y-components of the net B-field
    """
    # Create a 2D grid in the xy-plane
    x_vals = np.linspace(-extent, extent, grid_size)
    y_vals = np.linspace(-extent, extent, grid_size)
    X, Y = np.meshgrid(x_vals, y_vals)
    
    # Positions of the two wires
    x1, y1 = -d/2, 0
    x2, y2 =  d/2, 0
    
    # Distance (and direction) to wire #1
    dx1 = X - x1
    dy1 = Y - y1
    r1 = np.sqrt(dx1**2 + dy1**2)
    
    # Distance (and direction) to wire #2
    dx2 = X - x2
    dy2 = Y - y2
    r2 = np.sqrt(dx2**2 + dy2**2)
    
    # Avoid division by zero exactly at the wire
    r1[r1 == 0] = 1e-12
    r2[r2 == 0] = 1e-12
    
    # Magnitude of the B-fields from each wire (for infinite wire):
    B1 = mu0 * I1 / (2 * np.pi * r1)
    B2 = mu0 * I2 / (2 * np.pi * r2)
    
    # Direction of the B-fields in 2D
    # For current in +z, direction is phi-hat = (-dy, dx)/r
    # If current is negative (in -z), we effectively flip direction
    # Let's handle sign of I by including it in B1, B2 above (we do that in the magnitude formula).
    # We'll keep the direction as if the current were +z, but multiply by sign(I1 or I2).
    
    # However, we already used I1, I2 in B1, B2 to get signed B. 
    # So direction = (-dy, dx)/r is always for +z. We'll keep that form but watch signs carefully.
    Bx1 = B1 * (-dy1 / r1)
    By1 = B1 * ( dx1 / r1)
    Bx2 = B2 * (-dy2 / r2)
    By2 = B2 * ( dx2 / r2)
    
    # Net field
    Bx = Bx1 + Bx2
    By = By1 + By2
    
    return X, Y, Bx, By

def plot_field(I1, I2):
    """
    Plot the net B-field from two wires with currents I1 and I2.
    """
    X, Y, Bx, By = magnetic_field_two_wires(I1, I2, d=2.0, grid_size=21, extent=2.0)
    
    plt.figure(figsize=(6, 6))
    plt.quiver(X, Y, Bx, By, pivot='mid', color='blue')
    
    # Mark the wires with red dots
    plt.plot(-1, 0, 'ro', markersize=12)  # wire #1 at x=-1
    plt.plot( 1, 0, 'ro', markersize=12)  # wire #2 at x=+1
    
    plt.axhline(0, color='black', linewidth=0.5)
    plt.axvline(0, color='black', linewidth=0.5)
    
    plt.title(f"B-field for I1={I1:.2f} A, I2={I2:.2f} A")
    plt.xlim([-2, 2])
    plt.ylim([-2, 2])
    plt.xlabel('x')
    plt.ylabel('y')
    plt.gca().set_aspect('equal', adjustable='box')
    plt.show()

# Create interactive sliders for I1 and I2
I1_slider = FloatSlider(min=-5.0, max=5.0, step=0.1, value=1.0, description='I1 (A)')
I2_slider = FloatSlider(min=-5.0, max=5.0, step=0.1, value=1.0, description='I2 (A)')

interactive_plot = interactive(plot_field, I1=I1_slider, I2=I2_slider)
interactive_plot
