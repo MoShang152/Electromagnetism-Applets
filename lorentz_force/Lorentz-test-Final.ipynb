{
 "cells": [
  {
   "cell_type": "markdown",
   "id": "292d7f",
   "metadata": {
    "collapsed": false
   },
   "source": [
    "### **Simulation: Motion of Charged Particles in a Magnetic Field**\n",
    "\n",
    "This simulation demonstrates the motion of a charged particle in the presence of a magnetic field. The Lorentz force causes the particle to move in a helical trajectory. \n",
    "\n",
    "- **Magnetic Field Strength**: Controls the magnetic field strength in the experirment. Increasing the value of B causes the particle to have a smaller radius of rotation perpendicular to the direction of the magnetic field and a tighter trajectory.\n",
    "- **Vertical Velocity**: Controls the angular velocity of the particle around the magnetic field lines and influences the radius of the spiral trajectory. Increasing the value causes the helix radius to become larger.\n",
    "- **Parallel Velocity**: Determines the velocity along the magnetic field direction, affecting the elongation of the trajectory along the z-axis. Increasing the value causes the spiral to become more elongated.\n",
    "\n",
    "**Try adjusting the sliders to observe how different components influence the motion of the particle.**\n",
    "\n"
   ]
  },
  {
   "cell_type": "markdown",
   "id": "b9c119",
   "metadata": {
    "collapsed": false
   },
   "source": [
    "#### **Experimental steps:**\n",
    "\n",
    "##### **1.Try to adjust the parameters:**\n",
    "\n",
    "Increase the magnetic field strength \\(B\\): Observe if the radius of the spiral becomes smaller and understand the influence of the Lorentz force.\n",
    "\n",
    "Increase the perpendicular velocity: Observe if the radius of the spiral becomes larger and think about why the angular velocity changes.\n",
    "\n",
    "Increase the parallel velocity: Observe if the particles move faster along the Z\\-axis and if the spiral shape becomes more elongated.\n",
    "\n",
    "##### **2.Thinking Question:**\n",
    "\n",
    "Why does the particle's spiral become tighter when the magnetic field is increased?\n",
    "\n",
    "How would the particles move if the magnetic field disappeared?\n",
    "\n",
    "Does similar motion exist in a real physical environment? \\(e.g., the motion of electrons in the Earth's magnetic field\\)\n"
   ]
  },
  {
   "cell_type": "markdown",
   "id": "38dc1e",
   "metadata": {
    "collapsed": false
   },
   "source": [
    "#### **Lorentz Force Equation**\n",
    "\n",
    "A charged particle in a magnetic field experiences a force given by:\n",
    "\n",
    "\n",
    "$$\n",
    "\\mathbf{F} = q (\\mathbf{v} \\times \\mathbf{B})\\tag{1}\n",
    "$$\n",
    "\n"
   ]
  },
  {
   "cell_type": "markdown",
   "id": "d44918",
   "metadata": {
    "collapsed": false
   },
   "source": [
    "\n",
    "$$\n",
    "r = \\frac{m v}{q B}\\tag{2}\n",
    "$$\n",
    "\n",
    "This equation shows that the radius of the circular path increases with mass and velocity, but decreases with a stronger magnetic field or a larger charge.\n",
    "\n"
   ]
  },
  {
   "cell_type": "markdown",
   "id": "e85c56",
   "metadata": {
    "collapsed": false
   },
   "source": [
    "The velocity can be decomposed into:\n",
    "\n",
    "$$\n",
    "v = v_{\\parallel} + v_{\\perp} \\tag{3}\n",
    "$$\n",
    "\n",
    "The perpendicular component determines the radius of the helical trajectory as given by Equation (2), while the parallel component causes the particle to drift along the field lines, forming a helical motion.\n",
    "\n"
   ]
  },
  {
   "cell_type": "code",
   "execution_count": 1,
   "id": "789834",
   "metadata": {
    "collapsed": false,
    "jupyter": {
    }
   },
   "outputs": [
    {
     "data": {
      "application/vnd.jupyter.widget-view+json": {
       "model_id": "ebbd82e2f58842bfbe813f37dc1e3277",
       "version_major": 2,
       "version_minor": 0
      },
      "text/plain": [
       "interactive(children=(FloatSlider(value=0.001, description='B (T)', max=0.005, min=0.0001, step=0.0001), Float…"
      ]
     },
     "execution_count": 1,
     "metadata": {
     },
     "output_type": "execute_result"
    }
   ],
   "source": [
    "import numpy as np\n",
    "import matplotlib.pyplot as plt\n",
    "\n",
    "# For the interactive controls in a Jupyter Notebook:\n",
    "from ipywidgets import interactive, FloatSlider\n",
    "import ipywidgets as widgets\n",
    "\n",
    "# Define Constant\n",
    "q = 1.6e-19  # Charge of Particle (C)\n",
    "m = 9.11e-31  # Mass of Particle (kg)\n",
    "\n",
    "def particle_trajectory(B, v_perp, v_parallel, t_max=1e-6, num_points=500):\n",
    "    \"\"\"\n",
    "    Calculate the trajectory of a particle in a magnetic field.\n",
    "    \n",
    "    Parameters:\n",
    "    -----------\n",
    "    B : float\n",
    "      Magnetic field strength (T).\n",
    "    v_perp : float\n",
    "      Velocity perpendicular to the magnetic field (m/s).\n",
    "    v_parallel : float\n",
    "      Velocity parallel to the magnetic field (m/s).\n",
    "    t_max : float\n",
    "      Maximum time of the simulation (s).\n",
    "    num_points : int\n",
    "      Number of time steps.\n",
    "        \n",
    "    Returns:\n",
    "    --------\n",
    "    x, y, z : np.ndarray\n",
    "       The x, y, z coordinates of the particle trajectory.\n",
    "    \"\"\"\n",
    "    # Calculate particle motion parameters\n",
    "    r = m * v_perp / (q * B)  # radius of circular motion\n",
    "    omega = q * B / m        # angular velocity\n",
    "    t = np.linspace(0, t_max, num_points)  \n",
    "\n",
    "    # Calculate the trajectory\n",
    "    x = r * np.cos(omega * t)  \n",
    "    y = r * np.sin(omega * t)  \n",
    "    z = v_parallel * t         \n",
    "    return x, y, z\n",
    "\n",
    "def plot_trajectory(B, v_perp, v_parallel):\n",
    "    \"\"\"\n",
    "    Plot the trajectory of a particle in a magnetic field.\n",
    "    \"\"\"\n",
    "    # Calculate the trajectory\n",
    "    x, y, z = particle_trajectory(B, v_perp, v_parallel)\n",
    "\n",
    "    # Plot the shape\n",
    "    fig = plt.figure(figsize=(8, 8))\n",
    "    ax = fig.add_subplot(111, projection='3d')\n",
    "\n",
    "    # trajectory line\n",
    "    ax.plot(x, y, z, 'b-', label='Particle Trajectory')\n",
    "    ax.scatter([0], [0], [0], color='red', label='Magnetic Field Source')\n",
    "\n",
    "    # range of axis\n",
    "    max_range = max(abs(x).max(), abs(y).max(), abs(z).max()) * 1.2\n",
    "    ax.set_xlim([-max_range, max_range])\n",
    "    ax.set_ylim([-max_range, max_range])\n",
    "    ax.set_zlim([0, max(z.max(), 1e-3)])\n",
    "\n",
    "    # Lable\n",
    "    ax.set_xlabel('X (m)')\n",
    "    ax.set_ylabel('Y (m)')\n",
    "    ax.set_zlabel('Z (m)')\n",
    "    ax.set_title(f'Trajectory with B={B:.2e} T, v_perp={v_perp:.2e} m/s, v_parallel={v_parallel:.2e} m/s')\n",
    "    ax.legend()\n",
    "\n",
    "    plt.show()\n",
    "\n",
    "# Create the slider\n",
    "B_slider = FloatSlider(min=1e-4, max=5e-3, step=1e-4, value=1e-3, description='B (T)')\n",
    "v_perp_slider = FloatSlider(min=1e5, max=5e6, step=1e5, value=1e6, description='v_perp (m/s)')\n",
    "v_parallel_slider = FloatSlider(min=0, max=1e6, step=1e4, value=2e5, description='v_parallel (m/s)')\n",
    "\n",
    "# Creating interactive drawings\n",
    "interactive_plot = interactive(plot_trajectory, B=B_slider, v_perp=v_perp_slider, v_parallel=v_parallel_slider)\n",
    "interactive_plot\n"
   ]
  },
  {
   "cell_type": "code",
   "execution_count": 0,
   "id": "895eeb",
   "metadata": {
    "collapsed": false,
    "jupyter": {
     "outputs_hidden": false
    }
   },
   "outputs": [
   ],
   "source": [
   ]
  }
 ],
 "metadata": {
  "kernelspec": {
   "argv": [
    "/usr/bin/python3",
    "-m",
    "ipykernel",
    "--HistoryManager.enabled=False",
    "--matplotlib=inline",
    "-c",
    "%config InlineBackend.figure_formats = set(['retina'])\nimport matplotlib; matplotlib.rcParams['figure.figsize'] = (12, 7)",
    "-f",
    "{connection_file}"
   ],
   "display_name": "Python 3 (system-wide)",
   "env": {
   },
   "language": "python",
   "metadata": {
    "cocalc": {
     "description": "Python 3 programming language",
     "priority": 100,
     "url": "https://www.python.org/"
    }
   },
   "name": "python3",
   "resource_dir": "/ext/jupyter/kernels/python3"
  },
  "language_info": {
   "codemirror_mode": {
    "name": "ipython",
    "version": 3
   },
   "file_extension": ".py",
   "mimetype": "text/x-python",
   "name": "python",
   "nbconvert_exporter": "python",
   "pygments_lexer": "ipython3",
   "version": "3.10.12"
  }
 },
 "nbformat": 4,
 "nbformat_minor": 4
}