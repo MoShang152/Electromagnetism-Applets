{
 "cells": [
  {
   "cell_type": "code",
   "execution_count": 1,
   "metadata": {
    "collapsed": false,
    "jupyter": {
     "outputs_hidden": false
    }
   },
   "outputs": [
    {
     "data": {
      "application/vnd.jupyter.widget-view+json": {
       "model_id": "d8a091f0ec554119a9b1386b860dadcf",
       "version_major": 2,
       "version_minor": 0
      },
      "text/plain": [
       "interactive(children=(FloatSlider(value=0.001, description='B (T)', max=0.005, min=0.0001, step=0.0001), Float…"
      ]
     },
     "execution_count": 1,
     "metadata": {},
     "output_type": "execute_result"
    }
   ],
   "source": [
    "import numpy as np\n",
    "import matplotlib.pyplot as plt\n",
    "\n",
    "# For the interactive controls in a Jupyter Notebook:\n",
    "from ipywidgets import interactive, FloatSlider\n",
    "import ipywidgets as widgets\n",
    "\n",
    "# Define Constant\n",
    "q = 1.6e-19  # Charge of Particle (C)\n",
    "m = 9.11e-31  # Mass of Particle (kg)\n",
    "\n",
    "def particle_trajectory(B, v_perp, v_parallel, t_max=1e-6, num_points=500):\n",
    "    \"\"\"\n",
    "    Calculate the trajectory of a particle in a magnetic field.\n",
    "    \n",
    "    Parameters:\n",
    "    -----------\n",
    "    B : float\n",
    "      Magnetic field strength (T).\n",
    "    v_perp : float\n",
    "      Velocity perpendicular to the magnetic field (m/s).\n",
    "    v_parallel : float\n",
    "      Velocity parallel to the magnetic field (m/s).\n",
    "    t_max : float\n",
    "      Maximum time of the simulation (s).\n",
    "    num_points : int\n",
    "      Number of time steps.\n",
    "        \n",
    "    Returns:\n",
    "    --------\n",
    "    x, y, z : np.ndarray\n",
    "       The x, y, z coordinates of the particle trajectory.\n",
    "    \"\"\"\n",
    "    # Calculate particle motion parameters\n",
    "    r = m * v_perp / (q * B)  # radius of circular motion\n",
    "    omega = q * B / m        # angular velocity\n",
    "    t = np.linspace(0, t_max, num_points)  \n",
    "\n",
    "    # Calculate the trajectory\n",
    "    x = r * np.cos(omega * t)  \n",
    "    y = r * np.sin(omega * t)  \n",
    "    z = v_parallel * t         \n",
    "    return x, y, z\n",
    "\n",
    "def plot_trajectory(B, v_perp, v_parallel):\n",
    "    \"\"\"\n",
    "    Plot the trajectory of a particle in a magnetic field.\n",
    "    \"\"\"\n",
    "    # Calculate the trajectory\n",
    "    x, y, z = particle_trajectory(B, v_perp, v_parallel)\n",
    "\n",
    "    # Plot the shape\n",
    "    fig = plt.figure(figsize=(8, 8))\n",
    "    ax = fig.add_subplot(111, projection='3d')\n",
    "\n",
    "    # trajectory line\n",
    "    ax.plot(x, y, z, 'b-', label='Particle Trajectory')\n",
    "    ax.scatter([0], [0], [0], color='red', label='Magnetic Field Source')\n",
    "\n",
    "    # range of axis\n",
    "    max_range = max(abs(x).max(), abs(y).max(), abs(z).max()) * 1.2\n",
    "    ax.set_xlim([-max_range, max_range])\n",
    "    ax.set_ylim([-max_range, max_range])\n",
    "    ax.set_zlim([0, max(z.max(), 1e-3)])\n",
    "\n",
    "    # Lable\n",
    "    ax.set_xlabel('X (m)')\n",
    "    ax.set_ylabel('Y (m)')\n",
    "    ax.set_zlabel('Z (m)')\n",
    "    ax.set_title(f'Trajectory with B={B:.2e} T, v_perp={v_perp:.2e} m/s, v_parallel={v_parallel:.2e} m/s')\n",
    "    ax.legend()\n",
    "\n",
    "    plt.show()\n",
    "\n",
    "# Create the slider\n",
    "B_slider = FloatSlider(min=1e-4, max=5e-3, step=1e-4, value=1e-3, description='B (T)')\n",
    "v_perp_slider = FloatSlider(min=1e5, max=5e6, step=1e5, value=1e6, description='v_perp (m/s)')\n",
    "v_parallel_slider = FloatSlider(min=0, max=1e6, step=1e4, value=2e5, description='v_parallel (m/s)')\n",
    "\n",
    "# Creating interactive drawings\n",
    "interactive_plot = interactive(plot_trajectory, B=B_slider, v_perp=v_perp_slider, v_parallel=v_parallel_slider)\n",
    "interactive_plot\n"
   ]
  },
  {
   "cell_type": "code",
   "execution_count": null,
   "metadata": {
    "collapsed": false,
    "jupyter": {
     "outputs_hidden": false
    }
   },
   "outputs": [],
   "source": []
  }
 ],
 "metadata": {
  "kernelspec": {
   "display_name": "Python 3 (ipykernel)",
   "language": "python",
   "name": "python3"
  },
  "language_info": {
   "codemirror_mode": {
    "name": "ipython",
    "version": 3
   },
   "file_extension": ".py",
   "mimetype": "text/x-python",
   "name": "python",
   "nbconvert_exporter": "python",
   "pygments_lexer": "ipython3",
   "version": "3.10.0"
  }
 },
 "nbformat": 4,
 "nbformat_minor": 4
}
